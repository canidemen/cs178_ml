{
 "cells": [
  {
   "cell_type": "code",
   "execution_count": null,
   "metadata": {},
   "outputs": [
    {
     "name": "stdout",
     "output_type": "stream",
     "text": [
      "        encounter_id  patient_nbr             race  gender      age weight  \\\n",
      "0            2278392      8222157        Caucasian  Female   [0-10)    NaN   \n",
      "1             149190     55629189        Caucasian  Female  [10-20)    NaN   \n",
      "2              64410     86047875  AfricanAmerican  Female  [20-30)    NaN   \n",
      "3             500364     82442376        Caucasian    Male  [30-40)    NaN   \n",
      "4              16680     42519267        Caucasian    Male  [40-50)    NaN   \n",
      "...              ...          ...              ...     ...      ...    ...   \n",
      "101761     443847548    100162476  AfricanAmerican    Male  [70-80)    NaN   \n",
      "101762     443847782     74694222  AfricanAmerican  Female  [80-90)    NaN   \n",
      "101763     443854148     41088789        Caucasian    Male  [70-80)    NaN   \n",
      "101764     443857166     31693671        Caucasian  Female  [80-90)    NaN   \n",
      "101765     443867222    175429310        Caucasian    Male  [70-80)    NaN   \n",
      "\n",
      "        admission_type_id  discharge_disposition_id  admission_source_id  \\\n",
      "0                       6                        25                    1   \n",
      "1                       1                         1                    7   \n",
      "2                       1                         1                    7   \n",
      "3                       1                         1                    7   \n",
      "4                       1                         1                    7   \n",
      "...                   ...                       ...                  ...   \n",
      "101761                  1                         3                    7   \n",
      "101762                  1                         4                    5   \n",
      "101763                  1                         1                    7   \n",
      "101764                  2                         3                    7   \n",
      "101765                  1                         1                    7   \n",
      "\n",
      "        time_in_hospital  ... citoglipton insulin  glyburide-metformin  \\\n",
      "0                      1  ...          No      No                   No   \n",
      "1                      3  ...          No      Up                   No   \n",
      "2                      2  ...          No      No                   No   \n",
      "3                      2  ...          No      Up                   No   \n",
      "4                      1  ...          No  Steady                   No   \n",
      "...                  ...  ...         ...     ...                  ...   \n",
      "101761                 3  ...          No    Down                   No   \n",
      "101762                 5  ...          No  Steady                   No   \n",
      "101763                 1  ...          No    Down                   No   \n",
      "101764                10  ...          No      Up                   No   \n",
      "101765                 6  ...          No      No                   No   \n",
      "\n",
      "        glipizide-metformin  glimepiride-pioglitazone  \\\n",
      "0                        No                        No   \n",
      "1                        No                        No   \n",
      "2                        No                        No   \n",
      "3                        No                        No   \n",
      "4                        No                        No   \n",
      "...                     ...                       ...   \n",
      "101761                   No                        No   \n",
      "101762                   No                        No   \n",
      "101763                   No                        No   \n",
      "101764                   No                        No   \n",
      "101765                   No                        No   \n",
      "\n",
      "        metformin-rosiglitazone  metformin-pioglitazone  change diabetesMed  \\\n",
      "0                            No                      No      No          No   \n",
      "1                            No                      No      Ch         Yes   \n",
      "2                            No                      No      No         Yes   \n",
      "3                            No                      No      Ch         Yes   \n",
      "4                            No                      No      Ch         Yes   \n",
      "...                         ...                     ...     ...         ...   \n",
      "101761                       No                      No      Ch         Yes   \n",
      "101762                       No                      No      No         Yes   \n",
      "101763                       No                      No      Ch         Yes   \n",
      "101764                       No                      No      Ch         Yes   \n",
      "101765                       No                      No      No          No   \n",
      "\n",
      "       readmitted  \n",
      "0              NO  \n",
      "1             >30  \n",
      "2              NO  \n",
      "3              NO  \n",
      "4              NO  \n",
      "...           ...  \n",
      "101761        >30  \n",
      "101762         NO  \n",
      "101763         NO  \n",
      "101764         NO  \n",
      "101765         NO  \n",
      "\n",
      "[101766 rows x 50 columns]\n"
     ]
    },
    {
     "name": "stderr",
     "output_type": "stream",
     "text": [
      "C:\\Users\\canid\\AppData\\Local\\Temp\\ipykernel_22196\\3238142585.py:13: DtypeWarning: Columns (10) have mixed types. Specify dtype option on import or set low_memory=False.\n",
      "  df = pd.read_csv(file_path, sep=\",\", encoding=\"utf-8\", na_values=[\"?\", \"NA\"])   #creates dataframe\n"
     ]
    }
   ],
   "source": [
    "import pandas as pd\n",
    "import matplotlib.pyplot as plt\n",
    "import numpy as np\n",
    "\n",
    "from sklearn.linear_model import LogisticRegression  # Used in MNIST data problem\n",
    "import sklearn.tree as tree\n",
    "\n",
    "\n",
    "seed = 1234\n",
    "np.random.seed(seed)  \n",
    "\n",
    "\n",
    "file_path = r\"C:\\Users\\canid\\OneDrive\\Masaüstü\\Python\\CS_178\\project\\cs178_ml\\db\\diabetic_data.csv\"\n",
    "df = pd.read_csv(file_path, sep=\",\", encoding=\"utf-8\", na_values=[\"?\", \"NA\"])   #creates dataframe\n",
    "print(df)\n",
    "\n",
    "\n",
    "X, Y = []\n"
   ]
  },
  {
   "cell_type": "code",
   "execution_count": null,
   "metadata": {},
   "outputs": [],
   "source": [
    "#Logreg work?"
   ]
  },
  {
   "cell_type": "code",
   "execution_count": null,
   "metadata": {},
   "outputs": [],
   "source": [
    "#Decision Tree"
   ]
  },
  {
   "cell_type": "code",
   "execution_count": null,
   "metadata": {},
   "outputs": [],
   "source": [
    "#KNN?"
   ]
  }
 ],
 "metadata": {
  "kernelspec": {
   "display_name": ".venv",
   "language": "python",
   "name": "python3"
  },
  "language_info": {
   "codemirror_mode": {
    "name": "ipython",
    "version": 3
   },
   "file_extension": ".py",
   "mimetype": "text/x-python",
   "name": "python",
   "nbconvert_exporter": "python",
   "pygments_lexer": "ipython3",
   "version": "3.11.1"
  }
 },
 "nbformat": 4,
 "nbformat_minor": 2
}
